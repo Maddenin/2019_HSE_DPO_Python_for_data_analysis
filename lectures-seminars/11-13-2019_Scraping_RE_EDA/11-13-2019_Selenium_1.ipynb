{
 "cells": [
  {
   "cell_type": "markdown",
   "metadata": {},
   "source": [
    "# Python для анализа данных\n",
    "\n",
    "*Алла Тамбовцева, НИУ ВШЭ*"
   ]
  },
  {
   "cell_type": "markdown",
   "metadata": {},
   "source": [
    "### Автоматизация работы в браузере: библиотека `selenium`"
   ]
  },
  {
   "cell_type": "markdown",
   "metadata": {},
   "source": [
    "Библиотека `selenium` – набор инструментов для интерактивной работы в браузере средствами Python. Вообще Selenium ‒ это целый проект, в котором есть разные инструменты. Мы рассмотрим один из самых распространенных ‒ Selenium WebDriver, модуль, который позволяется Python встраиваться в браузер и работать в нем как пользователь: кликать на ссылки и кнопки, заполнять формы, выбирать опции в меню и прочее. \n",
    "\n",
    "Мы будем использовать WebDriver для решения такой задачи. Необходимо выгрузить все адреса участковых избирательных  комиссий Ивановской области. Для этого нужно написать код, который будет открывать в окне браузера раздел *По номеру избирательного участка*, вводить в поле с номером номер участка и выбирать регион из предлагаемого списка. Итак, начнем."
   ]
  },
  {
   "cell_type": "markdown",
   "metadata": {},
   "source": [
    "Сначала загрузим веб-драйвер из библиотеки `selenium`. "
   ]
  },
  {
   "cell_type": "code",
   "execution_count": 2,
   "metadata": {},
   "outputs": [
    {
     "name": "stdout",
     "output_type": "stream",
     "text": [
      "Collecting selenium\n",
      "  Downloading https://files.pythonhosted.org/packages/80/d6/4294f0b4bce4de0abf13e17190289f9d0613b0a44e5dd6a7f5ca98459853/selenium-3.141.0-py2.py3-none-any.whl (904kB)\n",
      "Requirement already satisfied: urllib3 in c:\\users\\rogov\\anaconda3\\lib\\site-packages (from selenium) (1.22)\n",
      "Installing collected packages: selenium\n",
      "Successfully installed selenium-3.141.0\n"
     ]
    },
    {
     "name": "stderr",
     "output_type": "stream",
     "text": [
      "WARNING: You are using pip version 19.1.1, however version 19.3.1 is available.\n",
      "You should consider upgrading via the 'python -m pip install --upgrade pip' command.\n"
     ]
    }
   ],
   "source": [
    "!pip install selenium"
   ]
  },
  {
   "cell_type": "code",
   "execution_count": 3,
   "metadata": {},
   "outputs": [],
   "source": [
    "from selenium import webdriver as wb"
   ]
  },
  {
   "cell_type": "markdown",
   "metadata": {},
   "source": [
    "Если Python пишет `No module called selenium`, убедитесь, что у вас установлена эта библиотека. Самый надежный способ установить ее ‒ найти *Anaconda Command Prompt*, вписать строку `pip install selenium` и нажать *Enter*. Если *Anaconda Command Prompt* не находится, можно поступить так: запустить Jupyter Notebook, щелкнуть на черное окно консоли, нажать *Ctrl+Z* (остановить запуск Jupyter), а потом так же ввести в этом окне строку `pip install selenium` и нажать *Enter*.\n",
    "\n",
    "Затем нужно выбрать браузер и открыть новое окно через Python. Для этого нужно вызвать функцию, которая отвечает за открытие браузера. Мы будем вызывать Chrome."
   ]
  },
  {
   "cell_type": "code",
   "execution_count": 8,
   "metadata": {},
   "outputs": [],
   "source": [
    "br = wb.Chrome(r'chromedriver.exe')"
   ]
  },
  {
   "cell_type": "markdown",
   "metadata": {},
   "source": [
    "Если код выше не исполняется, скачайте файл с веб-драйвером [отсюда](https://sites.google.com/a/chromium.org/chromedriver/downloads), распакуйте архив и пропишите путь к файлу в круглых скобках (в примере файл с расширением exe на Windows). "
   ]
  },
  {
   "cell_type": "code",
   "execution_count": null,
   "metadata": {},
   "outputs": [],
   "source": [
    "#br = wb.Chrome('C:/Users/student/Desktop/chromewebdriver/chromedriver.exe')"
   ]
  },
  {
   "cell_type": "code",
   "execution_count": 2,
   "metadata": {},
   "outputs": [],
   "source": [
    "#br = wb.Chrome(\"/Users/allat/Downloads/chromedriver\")"
   ]
  },
  {
   "cell_type": "code",
   "execution_count": 9,
   "metadata": {},
   "outputs": [],
   "source": [
    "br.get(\"http://www.cikrf.ru/services/lk_address/?do=find_by_uik\")"
   ]
  },
  {
   "cell_type": "markdown",
   "metadata": {},
   "source": [
    "Ура, страница открылась. Что на этой странице есть интересного? Два поля: ввод номера участка и регион. Сохраним номер участка в переменную `n_uik`, а регион ‒ в `reg`."
   ]
  },
  {
   "cell_type": "code",
   "execution_count": 10,
   "metadata": {},
   "outputs": [],
   "source": [
    "n_uik = 244\n",
    "reg = \"Ивановская область\""
   ]
  },
  {
   "cell_type": "markdown",
   "metadata": {},
   "source": [
    "Вопрос: как эти два поля заполнить? Нужно найти их на странице, открытой в браузере, и вписать туда нужные строки. Только сделать это нужно через Python. Воспользуемся инструментом CSS Selector (установить расширение для Chrome можно [здесь](https://chrome.google.com/webstore/detail/selectorgadget/mhjhnkcfbdhnjickkkdbjoemdmbfginb)). Для этого нужно открыть страницу в обычном браузере и кликнуть на расширение в правом углу. "
   ]
  },
  {
   "cell_type": "markdown",
   "metadata": {},
   "source": [
    "![](css.png)"
   ]
  },
  {
   "cell_type": "markdown",
   "metadata": {},
   "source": [
    "Теперь, когда мы будем наводить курсор мыши на объект на странице в таком режиме и кликать, внизу будет отображаться его название в css. "
   ]
  },
  {
   "cell_type": "markdown",
   "metadata": {},
   "source": [
    "![](css-uik.png)"
   ]
  },
  {
   "cell_type": "markdown",
   "metadata": {},
   "source": [
    "Теперь осталось зафиксировать поле с таким названием и ввести туда номер УИКа. "
   ]
  },
  {
   "cell_type": "code",
   "execution_count": 11,
   "metadata": {},
   "outputs": [],
   "source": [
    "# находим поле с #uik и сохраняем\n",
    "uik_field = br.find_element_by_css_selector(\"#uik\")\n",
    "\n",
    "# вводим номер УИКа в поле - метод send_keys\n",
    "uik_field.send_keys(n_uik)"
   ]
  },
  {
   "cell_type": "markdown",
   "metadata": {},
   "source": [
    "![](css-enter.png)"
   ]
  },
  {
   "cell_type": "markdown",
   "metadata": {},
   "source": [
    "Ура, получилось. А как быть с регионом? Там же не поле ввода, а целое выпадающее меню с опциями... Действовать можно аналогичным образом."
   ]
  },
  {
   "cell_type": "code",
   "execution_count": 12,
   "metadata": {},
   "outputs": [],
   "source": [
    "# region_field - поле для выбора региона, нашли по названию\n",
    "region_field = br.find_element_by_name(\"subject\")\n",
    "region_field.send_keys(reg)"
   ]
  },
  {
   "cell_type": "markdown",
   "metadata": {},
   "source": [
    "Осталось только кликнуть на кнопку *Отправить запрос*. Сначала найдем ее с помощью CSS Selector, а потом кликнем по ней ‒ воспользуемся методом `.click()`:"
   ]
  },
  {
   "cell_type": "code",
   "execution_count": 13,
   "metadata": {},
   "outputs": [],
   "source": [
    "button = br.find_element_by_link_text(\"Отправить запрос\")\n",
    "button.click()"
   ]
  },
  {
   "cell_type": "markdown",
   "metadata": {},
   "source": [
    "В браузере открылась страница с адресом избирательного участка. "
   ]
  },
  {
   "cell_type": "markdown",
   "metadata": {},
   "source": [
    "![](page.png)"
   ]
  },
  {
   "cell_type": "markdown",
   "metadata": {},
   "source": [
    "Осталось подгрузить `re` и найти на странице адрес участка с помощью регулярных выражений."
   ]
  },
  {
   "cell_type": "code",
   "execution_count": 16,
   "metadata": {},
   "outputs": [
    {
     "data": {
      "text/plain": [
       "'<html lang=\"ru\"><head>\\n    <meta http-equiv=\"content-type\" content=\"text/html; charset=UTF-8\">\\n    <meta http-equiv=\"Cache-Control\" content=\"no-cache\">\\n    <meta http-equiv=\"Pragma\" content=\"no-cache\">\\n    <meta http-equiv=\"Expires\" content=\"0\">\\n    <title>Найди свой избирательный участок</title>\\n    <meta http-equiv=\"Content-Language\" content=\"ru\">\\n    <link rel=\"stylesheet\" href=\"/files/css/content.css\" type=\"text/css\" media=\"all\">\\n    <link rel=\"stylesheet\" href=\"/files/css/base.css\" type=\"text/css\" media=\"all\">\\n    <script type=\"text/javascript\" async=\"\" src=\"https://mc.yandex.ru/metrika/tag.js\"></script><script type=\"text/javascript\" async=\"\" src=\"https://mc.yandex.ru/metrika/tag.js\"></script><script type=\"text/javascript\" async=\"\" src=\"https://mc.yandex.ru/metrika/tag.js\"></script><script type=\"text/javascript\" src=\"/files/js/jquery.js\"></script>\\n\\t<script type=\"text/javascript\" src=\"/files/js/jquery.jstree.js\"></script>\\n\\t<link rel=\"stylesheet\" href=\"/files/themes/default/style.css\">\\n\\t<link rel=\"stylesheet\" href=\"/files/css/lk/main.css\">\\n\\t<link href=\"/files/css/smoothness/jquery-ui-1.10.4.custom.css\" rel=\"stylesheet\">\\n\\t<script src=\"/files/js/jquery-ui.js\"></script></head>\\n<body>\\n<div class=\"blockarea\" style=\"width:800px; margin:0 auto;  margin-top:10px;\">\\n<p>Уважаемый пользователь!</p>\\n<h2>Данные по вашему запросу:</h2>\\n<div class=\"dotted\">\\n\\n<p><b>Данные о номере и адресе избирательного участка:</b></p>\\n<p>Участковая избирательная комиссия №244<br>Номер Территориальной избирательной комиссии: 011</p><p>Адрес помещения УИК: 155800, Ивановская область, городской округ Кинешма, город Кинешма, улица Григория Королева, дом 10, здание \"Кинешемский политехнический колледж\"</p><p>Телефон УИК: 8-(49331)-21885</p><p>Адрес помещения для голосования: 155800, Ивановская область, городской округ Кинешма, город Кинешма, улица Григория Королева, дом 10, здание \"Кинешемский политехнический колледж\"</p><p>Телефон помещения для голосования: 8-(49331)-21885</p>\\n<br><p>В случае необходимости получения дополнительной информации, вы можете обратиться в избирательную комиссию субъекта Российской Федерации по месту жительства (адреса избирательных комиссий субъектов Российской Федерации - <a href=\"http://www.cikrf.ru/sites\">www.cikrf.ru/sites</a>).</p>\\n</div>\\n<input value=\"Новый запрос\" class=\"buttonformmild\" onclick=\"window.location =\\'/services/lk_address/\\' \" type=\"button\"> <input value=\"На главную страницу\" class=\"buttonformmild\" onclick=\"window.location =\\'/\\' \" type=\"button\">\\t\\t\\n<!-- Yandex.Metrika counter -->\\n<script type=\"text/javascript\">\\n    (function (d, w, c) {\\n        (w[c] = w[c] || []).push(function() {\\n            try {\\n                w.yaCounter50663266 = new Ya.Metrika2({\\n                    id:50663266,\\n                    clickmap:true,\\n                    trackLinks:true,\\n                    accurateTrackBounce:true,\\n                    webvisor:true\\n                });\\n            } catch(e) { }\\n        });\\n\\n        var n = d.getElementsByTagName(\"script\")[0],\\n            s = d.createElement(\"script\"),\\n            f = function () { n.parentNode.insertBefore(s, n); };\\n        s.type = \"text/javascript\";\\n        s.async = true;\\n        s.src = \"https://mc.yandex.ru/metrika/tag.js\";\\n\\n        if (w.opera == \"[object Opera]\") {\\n            d.addEventListener(\"DOMContentLoaded\", f, false);\\n        } else { f(); }\\n    })(document, window, \"yandex_metrika_callbacks2\");\\n</script>\\n<noscript><div><img src=\"https://mc.yandex.ru/watch/50663266\" style=\"position:absolute; left:-9999px;\" alt=\"\" /></div></noscript>\\n<!-- /Yandex.Metrika counter -->\\n\\n<!-- Yandex.Metrika counter -->\\n<script type=\"text/javascript\">\\n    (function (d, w, c) {\\n        (w[c] = w[c] || []).push(function() {\\n            try {\\n                w.yaCounter50664472 = new Ya.Metrika2({\\n                    id:50664472,\\n                    clickmap:true,\\n                    trackLinks:true,\\n                    accurateTrackBounce:true,\\n                    webvisor:true\\n                });\\n            } catch(e) { }\\n        });\\n\\n        var n = d.getElementsByTagName(\"script\")[0],\\n            s = d.createElement(\"script\"),\\n            f = function () { n.parentNode.insertBefore(s, n); };\\n        s.type = \"text/javascript\";\\n        s.async = true;\\n        s.src = \"https://mc.yandex.ru/metrika/tag.js\";\\n\\n        if (w.opera == \"[object Opera]\") {\\n            d.addEventListener(\"DOMContentLoaded\", f, false);\\n        } else { f(); }\\n    })(document, window, \"yandex_metrika_callbacks2\");\\n</script>\\n<noscript><div><img src=\"https://mc.yandex.ru/watch/50664472\" style=\"position:absolute; left:-9999px;\" alt=\"\" /></div></noscript>\\n<!-- /Yandex.Metrika counter -->\\n\\n<!-- Yandex.Metrika counter -->\\n<script type=\"text/javascript\">\\n    (function (d, w, c) {\\n        (w[c] = w[c] || []).push(function() {\\n            try {\\n                w.yaCounter50680165 = new Ya.Metrika2({\\n                    id:50680165,\\n                    clickmap:true,\\n                    trackLinks:true,\\n                    accurateTrackBounce:true,\\n                    webvisor:true\\n                });\\n            } catch(e) { }\\n        });\\n\\n        var n = d.getElementsByTagName(\"script\")[0],\\n            s = d.createElement(\"script\"),\\n            f = function () { n.parentNode.insertBefore(s, n); };\\n        s.type = \"text/javascript\";\\n        s.async = true;\\n        s.src = \"https://mc.yandex.ru/metrika/tag.js\";\\n\\n        if (w.opera == \"[object Opera]\") {\\n            d.addEventListener(\"DOMContentLoaded\", f, false);\\n        } else { f(); }\\n    })(document, window, \"yandex_metrika_callbacks2\");\\n</script>\\n<noscript><div><img src=\"https://mc.yandex.ru/watch/50680165\" style=\"position:absolute; left:-9999px;\" alt=\"\" /></div></noscript>\\n<!-- /Yandex.Metrika counter -->\\n\\n<!--LiveInternet counter--><script type=\"text/javascript\">new Image().src = \"//counter.yadro.ru/hit?r\" + escape(document.referrer) + ((typeof(screen)==\"undefined\")?\"\" : \";s\"+screen.width+\"*\"+screen.height+\"*\" + (screen.colorDepth?screen.colorDepth:screen.pixelDepth)) + \";u\"+escape(document.URL) +  \";\" +Math.random();</script><!--/LiveInternet-->\\n\\n</div><ul class=\"vakata-context\"></ul><div id=\"jstree-marker\" style=\"display: none;\">&nbsp;</div><iframe name=\"ym-native-frame\" title=\"ym-native-frame\" frameborder=\"0\" aria-hidden=\"true\" style=\"opacity: 0; width: 0px; height: 0px; position: absolute; left: 100%; bottom: 100%; border: 0px !important;\"></iframe><iframe name=\"ym-native-frame\" title=\"ym-native-frame\" frameborder=\"0\" aria-hidden=\"true\" style=\"opacity: 0; width: 0px; height: 0px; position: absolute; left: 100%; bottom: 100%; border: 0px !important;\"></iframe><iframe name=\"ym-native-frame\" title=\"ym-native-frame\" frameborder=\"0\" aria-hidden=\"true\" style=\"opacity: 0; width: 0px; height: 0px; position: absolute; left: 100%; bottom: 100%; border: 0px !important;\"></iframe><ym-measure class=\"ym-viewport\" style=\"display: block; top: 0px; right: 0px; bottom: 0px; left: 0px; position: fixed; transform: translate(0px, -100%); transform-origin: 0px 0px;\"></ym-measure><ym-measure class=\"ym-zoom\" style=\"bottom: 100%; position: fixed; width: 100vw;\"></ym-measure></body></html>'"
      ]
     },
     "execution_count": 16,
     "metadata": {},
     "output_type": "execute_result"
    }
   ],
   "source": [
    "br.page_source"
   ]
  },
  {
   "cell_type": "code",
   "execution_count": 14,
   "metadata": {},
   "outputs": [],
   "source": [
    "import re"
   ]
  },
  {
   "cell_type": "code",
   "execution_count": 15,
   "metadata": {},
   "outputs": [
    {
     "data": {
      "text/plain": [
       "<_sre.SRE_Match object; span=(1741, 1919), match='Адрес помещения для голосования: 155800, Ивановск>"
      ]
     },
     "execution_count": 15,
     "metadata": {},
     "output_type": "execute_result"
    }
   ],
   "source": [
    "p = re.search(r\"Адрес помещения для голосования: ([^<]+)\", br.page_source)\n",
    "p"
   ]
  },
  {
   "cell_type": "code",
   "execution_count": 17,
   "metadata": {},
   "outputs": [
    {
     "data": {
      "text/plain": [
       "'155800, Ивановская область, городской округ Кинешма, город Кинешма, улица Григория Королева, дом 10, здание \"Кинешемский политехнический колледж\"'"
      ]
     },
     "execution_count": 17,
     "metadata": {},
     "output_type": "execute_result"
    }
   ],
   "source": [
    "p.group(1) # текст адреса"
   ]
  },
  {
   "cell_type": "markdown",
   "metadata": {},
   "source": [
    "Получилось! Единственное, хорошо бы учесть случаи, когда адреса участка в таком виде на странице нет (такие случаи бывают: иногда страница создана не по шаблону, иногда указан адрес территориальной комиссии). Для этого нам понадобится условие. Добавим «развилку»: пусть Python пробует найти адрес через указанное регулярное выражение, а если не найдет, то ищет его с помощью другого регулярного выражения. "
   ]
  },
  {
   "cell_type": "code",
   "execution_count": 19,
   "metadata": {},
   "outputs": [],
   "source": [
    "if p is None:\n",
    "    p = re.search(r\"Адрес: ([^<]+)\", br.page_source)\n",
    "    addr = p.group(1)"
   ]
  },
  {
   "cell_type": "markdown",
   "metadata": {},
   "source": [
    "Теперь у нас есть универсальный код, который позволяет найти адрес избирательного участка по номеру. В следующий раз мы оформим этот код в функцию, чтобы можно было подставлять в нее любой номер и регион, и применять ее в цикле, итерируя по номерам участков."
   ]
  }
 ],
 "metadata": {
  "kernelspec": {
   "display_name": "Python 3",
   "language": "python",
   "name": "python3"
  },
  "language_info": {
   "codemirror_mode": {
    "name": "ipython",
    "version": 3
   },
   "file_extension": ".py",
   "mimetype": "text/x-python",
   "name": "python",
   "nbconvert_exporter": "python",
   "pygments_lexer": "ipython3",
   "version": "3.6.5"
  }
 },
 "nbformat": 4,
 "nbformat_minor": 2
}
